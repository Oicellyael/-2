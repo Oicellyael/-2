{
  "metadata": {
    "language_info": {
      "codemirror_mode": {
        "name": "python",
        "version": 3
      },
      "file_extension": ".py",
      "mimetype": "text/x-python",
      "name": "python",
      "nbconvert_exporter": "python",
      "pygments_lexer": "ipython3",
      "version": "3.8"
    },
    "kernelspec": {
      "name": "python",
      "display_name": "Python (Pyodide)",
      "language": "python"
    }
  },
  "nbformat_minor": 4,
  "nbformat": 4,
  "cells": [
    {
      "cell_type": "code",
      "source": "import numpy as np\n\n# Створення матриці 4x4 з випадковими дійсними числами від -1 до 1\nmatrix = np.random.uniform(-1, 1, size=(4, 4))\n\n# Знаходження вектору-стовпчика з сумами кубів елементів кожного рядка\ncubed_sums = np.sum(matrix**3, axis=1)\n\ncubed_sums = cubed_sums.reshape(-1, 1)\n\nmatrix, cubed_sums\n",
      "metadata": {
        "trusted": true
      },
      "execution_count": 1,
      "outputs": [
        {
          "execution_count": 1,
          "output_type": "execute_result",
          "data": {
            "text/plain": "(array([[ 0.53339421, -0.81508916, -0.71894363, -0.68041393],\n        [-0.83717675,  0.05317516, -0.02381397, -0.17100529],\n        [ 0.36563268,  0.91281001,  0.22196127,  0.02764331],\n        [-0.34636728, -0.95378476,  0.24209888, -0.13257314]]),\n array([[-1.07637951],\n        [-0.59161162],\n        [ 0.82041035],\n        [-0.89735709]]))"
          },
          "metadata": {}
        }
      ]
    }
  ]
}
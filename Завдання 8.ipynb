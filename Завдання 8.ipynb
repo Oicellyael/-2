{
  "metadata": {
    "language_info": {
      "codemirror_mode": {
        "name": "python",
        "version": 3
      },
      "file_extension": ".py",
      "mimetype": "text/x-python",
      "name": "python",
      "nbconvert_exporter": "python",
      "pygments_lexer": "ipython3",
      "version": "3.8"
    },
    "kernelspec": {
      "name": "python",
      "display_name": "Python (Pyodide)",
      "language": "python"
    }
  },
  "nbformat_minor": 4,
  "nbformat": 4,
  "cells": [
    {
      "cell_type": "code",
      "source": "import numpy as np\n\n# Створення матриці 3x3 з випадковими цілими числами від 1 до 10\nmatrix = np.random.randint(1, 11, size=(3, 3))\n\n# Перевірка на виродженість матриці\nif np.linalg.det(matrix) != 0:\n    # Знаходження оберненої матриці\n    inverse_matrix = np.linalg.inv(matrix)\nelse:\n    inverse_matrix = None\n\nmatrix, inverse_matrix\n",
      "metadata": {
        "trusted": true
      },
      "execution_count": 2,
      "outputs": [
        {
          "execution_count": 2,
          "output_type": "execute_result",
          "data": {
            "text/plain": "(array([[4, 6, 8],\n        [1, 7, 2],\n        [3, 9, 2]]),\n array([[ 0.04545455, -0.68181818,  0.5       ],\n        [-0.04545455,  0.18181818,  0.        ],\n        [ 0.13636364,  0.20454545, -0.25      ]]))"
          },
          "metadata": {}
        }
      ]
    },
    {
      "cell_type": "code",
      "source": "",
      "metadata": {},
      "execution_count": null,
      "outputs": []
    }
  ]
}
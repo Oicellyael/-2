{
  "metadata": {
    "language_info": {
      "codemirror_mode": {
        "name": "python",
        "version": 3
      },
      "file_extension": ".py",
      "mimetype": "text/x-python",
      "name": "python",
      "nbconvert_exporter": "python",
      "pygments_lexer": "ipython3",
      "version": "3.8"
    },
    "kernelspec": {
      "name": "python",
      "display_name": "Python (Pyodide)",
      "language": "python"
    }
  },
  "nbformat_minor": 4,
  "nbformat": 4,
  "cells": [
    {
      "cell_type": "code",
      "source": "import numpy as np\n\n# Створення матриці 3x4 з випадковими цілими числами від -5 до 5\nmatrix = np.random.randint(-5, 6, size=(3, 4))\n\n# Створення вектору розміром 4 з випадковими дійсними числами від 0 до 1\nvector = np.random.rand(4)\n\n# Знайдення додатних елементів матриці\npositive_elements = matrix[matrix > 0]\n\n# Знайдення суми додатних елементів\nsum_of_positive_elements = positive_elements.sum()\n\nmatrix, vector, sum_of_positive_elements\n",
      "metadata": {
        "trusted": true
      },
      "execution_count": 1,
      "outputs": [
        {
          "execution_count": 1,
          "output_type": "execute_result",
          "data": {
            "text/plain": "(array([[-1,  1,  2, -5],\n        [ 4,  1, -5,  5],\n        [-5,  5, -2,  1]]),\n array([0.43088963, 0.01949448, 0.83932328, 0.50270913]),\n 19)"
          },
          "metadata": {}
        }
      ]
    },
    {
      "cell_type": "code",
      "source": "",
      "metadata": {},
      "execution_count": null,
      "outputs": []
    }
  ]
}
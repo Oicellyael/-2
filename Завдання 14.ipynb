{
  "metadata": {
    "language_info": {
      "codemirror_mode": {
        "name": "python",
        "version": 3
      },
      "file_extension": ".py",
      "mimetype": "text/x-python",
      "name": "python",
      "nbconvert_exporter": "python",
      "pygments_lexer": "ipython3",
      "version": "3.8"
    },
    "kernelspec": {
      "name": "python",
      "display_name": "Python (Pyodide)",
      "language": "python"
    }
  },
  "nbformat_minor": 4,
  "nbformat": 4,
  "cells": [
    {
      "cell_type": "code",
      "source": "import numpy as np\n\n# Створення матриці 8x8 з випадковими цілими числами від 1 до 100\nmatrix = np.random.randint(1, 101, size=(8, 8))\n\n# Знайдення кількості парних елементів матриці\ncount_even_elements = np.sum(matrix % 2 == 0)\n\nmatrix, count_even_elements\n",
      "metadata": {
        "trusted": true
      },
      "execution_count": 1,
      "outputs": [
        {
          "execution_count": 1,
          "output_type": "execute_result",
          "data": {
            "text/plain": "(array([[99, 87, 62, 85, 22, 50, 22, 25],\n        [75, 25, 52, 36, 89, 83, 68, 31],\n        [42, 28, 82,  7, 11, 86, 29, 44],\n        [85, 94, 28, 46, 51, 85,  5, 74],\n        [ 7,  8, 78, 80, 15, 52, 22, 46],\n        [ 6, 73, 46, 74, 94, 12, 82, 47],\n        [10, 72, 28, 86, 16, 78,  1, 88],\n        [33, 74, 14,  3, 17, 62, 78, 15]]),\n 39)"
          },
          "metadata": {}
        }
      ]
    },
    {
      "cell_type": "code",
      "source": "",
      "metadata": {},
      "execution_count": null,
      "outputs": []
    }
  ]
}
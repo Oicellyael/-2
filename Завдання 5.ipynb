{
  "metadata": {
    "language_info": {
      "codemirror_mode": {
        "name": "python",
        "version": 3
      },
      "file_extension": ".py",
      "mimetype": "text/x-python",
      "name": "python",
      "nbconvert_exporter": "python",
      "pygments_lexer": "ipython3",
      "version": "3.8"
    },
    "kernelspec": {
      "name": "python",
      "display_name": "Python (Pyodide)",
      "language": "python"
    }
  },
  "nbformat_minor": 4,
  "nbformat": 4,
  "cells": [
    {
      "cell_type": "code",
      "source": "import numpy as np\n\n# Створення двох масивів розміром 5 з випадковими цілими числами від 1 до 30\narray1 = np.random.randint(1, 31, size=5)\narray2 = np.random.randint(1, 31, size=5)\n\n# Виконання поелементної операції додавання\naddition_result = array1 + array2\n\n# Виконання поелементної операції віднімання\nsubtraction_result = array1 - array2\n\n# Виконання поелементної операції множення\nmultiplication_result = array1 * array2\n\narray1, array2, addition_result, subtraction_result, multiplication_result\n",
      "metadata": {
        "trusted": true
      },
      "execution_count": 1,
      "outputs": [
        {
          "execution_count": 1,
          "output_type": "execute_result",
          "data": {
            "text/plain": "(array([10, 10,  1,  8,  2]),\n array([ 1, 27,  6, 17, 16]),\n array([11, 37,  7, 25, 18]),\n array([  9, -17,  -5,  -9, -14]),\n array([ 10, 270,   6, 136,  32]))"
          },
          "metadata": {}
        }
      ]
    },
    {
      "cell_type": "code",
      "source": "",
      "metadata": {},
      "execution_count": null,
      "outputs": []
    }
  ]
}
{
  "metadata": {
    "language_info": {
      "codemirror_mode": {
        "name": "python",
        "version": 3
      },
      "file_extension": ".py",
      "mimetype": "text/x-python",
      "name": "python",
      "nbconvert_exporter": "python",
      "pygments_lexer": "ipython3",
      "version": "3.8"
    },
    "kernelspec": {
      "name": "python",
      "display_name": "Python (Pyodide)",
      "language": "python"
    }
  },
  "nbformat_minor": 4,
  "nbformat": 4,
  "cells": [
    {
      "cell_type": "code",
      "source": "import numpy as np\n\n# Створення матриці 2x3 з випадковими дійсними числами від 0 до 1\nmatrix = np.random.rand(2, 3)\n\n# Створення вектору розміром 3 з випадковими дійсними числами від 0 до 1\nvector = np.random.rand(3)\n\n# Обчислення середнього значення матриці\nmean_value = matrix.mean()\n\n# Знайдіть елементи матриці, які менше середнього значення\nbelow_mean_elements = matrix[matrix < mean_value]\n\n# Обчислення суми елементів, які менше середнього значення\nsum_below_mean = below_mean_elements.sum()\n\nmatrix, vector, sum_below_mean\n",
      "metadata": {
        "trusted": true
      },
      "execution_count": 1,
      "outputs": [
        {
          "execution_count": 1,
          "output_type": "execute_result",
          "data": {
            "text/plain": "(array([[0.99329057, 0.39779243, 0.91800051],\n        [0.08705756, 0.65915527, 0.89905174]]),\n array([0.92843823, 0.33709207, 0.64748032]),\n 0.48484999042762744)"
          },
          "metadata": {}
        }
      ]
    },
    {
      "cell_type": "code",
      "source": "",
      "metadata": {},
      "execution_count": null,
      "outputs": []
    }
  ]
}
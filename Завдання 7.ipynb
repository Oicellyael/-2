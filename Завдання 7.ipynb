{
  "metadata": {
    "language_info": {
      "codemirror_mode": {
        "name": "python",
        "version": 3
      },
      "file_extension": ".py",
      "mimetype": "text/x-python",
      "name": "python",
      "nbconvert_exporter": "python",
      "pygments_lexer": "ipython3",
      "version": "3.8"
    },
    "kernelspec": {
      "name": "python",
      "display_name": "Python (Pyodide)",
      "language": "python"
    }
  },
  "nbformat_minor": 4,
  "nbformat": 4,
  "cells": [
    {
      "cell_type": "code",
      "source": "import numpy as np\n\n# Створення двох матриць 2x3 та 3x2 з випадковими цілими числами від 1 до 15\nmatrix1 = np.random.randint(1, 16, size=(2, 3))\nmatrix2 = np.random.randint(1, 16, size=(3, 2))\n\n# Множення двох матриць\nresult_matrix = np.dot(matrix1, matrix2)\n\nmatrix1, matrix2, result_matrix\n",
      "metadata": {
        "trusted": true
      },
      "execution_count": 1,
      "outputs": [
        {
          "execution_count": 1,
          "output_type": "execute_result",
          "data": {
            "text/plain": "(array([[ 8, 13,  7],\n        [ 2,  9,  4]]),\n array([[ 2, 10],\n        [ 9, 12],\n        [ 4,  4]]),\n array([[161, 264],\n        [101, 144]]))"
          },
          "metadata": {}
        }
      ]
    },
    {
      "cell_type": "code",
      "source": "",
      "metadata": {},
      "execution_count": null,
      "outputs": []
    }
  ]
}
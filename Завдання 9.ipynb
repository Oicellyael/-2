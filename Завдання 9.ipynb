{
  "metadata": {
    "language_info": {
      "codemirror_mode": {
        "name": "python",
        "version": 3
      },
      "file_extension": ".py",
      "mimetype": "text/x-python",
      "name": "python",
      "nbconvert_exporter": "python",
      "pygments_lexer": "ipython3",
      "version": "3.8"
    },
    "kernelspec": {
      "name": "python",
      "display_name": "Python (Pyodide)",
      "language": "python"
    }
  },
  "nbformat_minor": 4,
  "nbformat": 4,
  "cells": [
    {
      "cell_type": "code",
      "source": "import numpy as np\n\n# Створення матриці 5x5 з випадковими дійсними числами від 0 до 1\nmatrix = np.random.rand(5, 5)\n\n# Транспонування матриці\ntransposed_matrix = matrix.T\n\nmatrix, transposed_matrix\n",
      "metadata": {
        "trusted": true
      },
      "execution_count": 1,
      "outputs": [
        {
          "execution_count": 1,
          "output_type": "execute_result",
          "data": {
            "text/plain": "(array([[0.54877921, 0.9497889 , 0.17686537, 0.13471683, 0.48167672],\n        [0.9689539 , 0.00367847, 0.95713395, 0.73331557, 0.13162904],\n        [0.45374622, 0.50974003, 0.06034765, 0.46279345, 0.11933133],\n        [0.17389962, 0.74730847, 0.27112503, 0.66004234, 0.37818558],\n        [0.47014339, 0.74140738, 0.03010061, 0.75275963, 0.90678308]]),\n array([[0.54877921, 0.9689539 , 0.45374622, 0.17389962, 0.47014339],\n        [0.9497889 , 0.00367847, 0.50974003, 0.74730847, 0.74140738],\n        [0.17686537, 0.95713395, 0.06034765, 0.27112503, 0.03010061],\n        [0.13471683, 0.73331557, 0.46279345, 0.66004234, 0.75275963],\n        [0.48167672, 0.13162904, 0.11933133, 0.37818558, 0.90678308]]))"
          },
          "metadata": {}
        }
      ]
    },
    {
      "cell_type": "code",
      "source": "",
      "metadata": {},
      "execution_count": null,
      "outputs": []
    }
  ]
}
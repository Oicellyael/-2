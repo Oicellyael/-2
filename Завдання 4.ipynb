{
  "metadata": {
    "language_info": {
      "codemirror_mode": {
        "name": "python",
        "version": 3
      },
      "file_extension": ".py",
      "mimetype": "text/x-python",
      "name": "python",
      "nbconvert_exporter": "python",
      "pygments_lexer": "ipython3",
      "version": "3.8"
    },
    "kernelspec": {
      "name": "python",
      "display_name": "Python (Pyodide)",
      "language": "python"
    }
  },
  "nbformat_minor": 4,
  "nbformat": 4,
  "cells": [
    {
      "cell_type": "code",
      "source": "import numpy as np\n\n# Створення масиву 5x5 з випадковими дійсними числами від 0 до 1\narray = np.random.rand(5, 5)\n\n# Обчислення середнього значення всіх елементів масиву\nmean_value = array.mean()\n\n# Знайдіть елементи, які менше середнього значення\nbelow_mean = array[array < mean_value]\n\n# Обчислення суми елементів, які менше середнього значення\nsum_below_mean = below_mean.sum()\n\narray, mean_value, sum_below_mean\n",
      "metadata": {
        "trusted": true
      },
      "execution_count": 1,
      "outputs": [
        {
          "execution_count": 1,
          "output_type": "execute_result",
          "data": {
            "text/plain": "(array([[0.14770439, 0.47657319, 0.95963259, 0.76470846, 0.94336369],\n        [0.88029322, 0.12603015, 0.21186233, 0.25065752, 0.33981776],\n        [0.12885966, 0.6160401 , 0.39408755, 0.30766753, 0.56509323],\n        [0.31271746, 0.42452259, 0.69134067, 0.31181859, 0.02077115],\n        [0.69295248, 0.05484406, 0.71036674, 0.57876225, 0.69503189]]),\n 0.46422076953721464,\n 3.0313607405092466)"
          },
          "metadata": {}
        }
      ]
    },
    {
      "cell_type": "code",
      "source": "",
      "metadata": {},
      "execution_count": null,
      "outputs": []
    }
  ]
}
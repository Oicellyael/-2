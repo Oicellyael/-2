{
  "metadata": {
    "language_info": {
      "codemirror_mode": {
        "name": "python",
        "version": 3
      },
      "file_extension": ".py",
      "mimetype": "text/x-python",
      "name": "python",
      "nbconvert_exporter": "python",
      "pygments_lexer": "ipython3",
      "version": "3.8"
    },
    "kernelspec": {
      "name": "python",
      "display_name": "Python (Pyodide)",
      "language": "python"
    }
  },
  "nbformat_minor": 4,
  "nbformat": 4,
  "cells": [
    {
      "cell_type": "code",
      "source": "import numpy as np\n\n# Створення масиву 7x7 з випадковими цілими числами від 0 до 10\narray = np.random.randint(0, 11, size=(7, 7))\n\narray\n",
      "metadata": {
        "trusted": true
      },
      "execution_count": 1,
      "outputs": [
        {
          "execution_count": 1,
          "output_type": "execute_result",
          "data": {
            "text/plain": "array([[ 4,  5,  2,  2,  5,  3,  0],\n       [ 7,  5,  5,  1,  9,  0,  3],\n       [ 0,  4,  5,  0,  9, 10,  9],\n       [ 3,  5,  5,  4,  5,  9,  8],\n       [ 1,  6,  9, 10, 10,  0,  5],\n       [ 8,  6,  0,  8,  6,  3,  6],\n       [ 3,  1,  4,  5,  6,  7,  5]])"
          },
          "metadata": {}
        }
      ]
    },
    {
      "cell_type": "code",
      "source": "",
      "metadata": {},
      "execution_count": null,
      "outputs": []
    }
  ]
}
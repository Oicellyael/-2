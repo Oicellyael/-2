{
  "metadata": {
    "language_info": {
      "codemirror_mode": {
        "name": "python",
        "version": 3
      },
      "file_extension": ".py",
      "mimetype": "text/x-python",
      "name": "python",
      "nbconvert_exporter": "python",
      "pygments_lexer": "ipython3",
      "version": "3.8"
    },
    "kernelspec": {
      "name": "python",
      "display_name": "Python (Pyodide)",
      "language": "python"
    }
  },
  "nbformat_minor": 4,
  "nbformat": 4,
  "cells": [
    {
      "cell_type": "code",
      "source": "import numpy as np\nimport sympy as sp\n\n# Створення першої матриці 3x3 з випадковими цілими числами від 1 до 10\nmatrix1 = np.random.randint(1, 11, size=(3, 3))\n\n# Створення другої матриці 3x3 з випадковими цілими числами від 1 до 10\nmatrix2 = np.random.randint(1, 11, size=(3, 3))\n\n# Обчислення добутку всіх елементів обох матриць за допомогою sympy\nproduct = sp.prod(matrix1) * sp.prod(matrix2)\n\nmatrix1, matrix2, product\n",
      "metadata": {
        "trusted": true
      },
      "execution_count": 2,
      "outputs": [
        {
          "execution_count": 2,
          "output_type": "execute_result",
          "data": {
            "text/plain": "(array([[ 1,  6,  1],\n        [ 9, 10,  9],\n        [ 8,  5,  1]]),\n array([[10,  4,  7],\n        [10,  2,  2],\n        [ 9,  1,  9]]),\n array([64800,  2400,  1134]))"
          },
          "metadata": {}
        }
      ]
    },
    {
      "cell_type": "code",
      "source": "",
      "metadata": {},
      "execution_count": null,
      "outputs": []
    }
  ]
}
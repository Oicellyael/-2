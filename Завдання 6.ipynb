{
  "metadata": {
    "language_info": {
      "codemirror_mode": {
        "name": "python",
        "version": 3
      },
      "file_extension": ".py",
      "mimetype": "text/x-python",
      "name": "python",
      "nbconvert_exporter": "python",
      "pygments_lexer": "ipython3",
      "version": "3.8"
    },
    "kernelspec": {
      "name": "python",
      "display_name": "Python (Pyodide)",
      "language": "python"
    }
  },
  "nbformat_minor": 4,
  "nbformat": 4,
  "cells": [
    {
      "cell_type": "code",
      "source": "import numpy as np\n\n# Створення двох векторів розміром 6 з довільними дійсними числами\nvector1 = np.random.rand(6)  # Випадкові числа від 0 до 1\nvector2 = np.random.rand(6)  # Випадкові числа від 0 до 1\n\n# Обчислення скалярного добутку двох векторів\nscalar_product = np.dot(vector1, vector2)\n\nvector1, vector2, scalar_product\n",
      "metadata": {
        "trusted": true
      },
      "execution_count": 1,
      "outputs": [
        {
          "execution_count": 1,
          "output_type": "execute_result",
          "data": {
            "text/plain": "(array([0.78348874, 0.83153317, 0.94950618, 0.61477705, 0.96576093,\n        0.07818254]),\n array([0.66551364, 0.90460764, 0.29612894, 0.06255244, 0.23362233,\n        0.7769307 ]),\n 1.8796314956667777)"
          },
          "metadata": {}
        }
      ]
    },
    {
      "cell_type": "code",
      "source": "",
      "metadata": {},
      "execution_count": null,
      "outputs": []
    }
  ]
}
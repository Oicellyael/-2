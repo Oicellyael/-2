{
  "metadata": {
    "language_info": {
      "codemirror_mode": {
        "name": "python",
        "version": 3
      },
      "file_extension": ".py",
      "mimetype": "text/x-python",
      "name": "python",
      "nbconvert_exporter": "python",
      "pygments_lexer": "ipython3",
      "version": "3.8"
    },
    "kernelspec": {
      "name": "python",
      "display_name": "Python (Pyodide)",
      "language": "python"
    }
  },
  "nbformat_minor": 4,
  "nbformat": 4,
  "cells": [
    {
      "cell_type": "code",
      "source": "import numpy as np\n\n# Створення першої матриці 2x2 з випадковими цілими числами від 1 до 10\nmatrix1 = np.random.randint(1, 11, size=(2, 2))\n\n# Створення другої матриці 2x2 з випадковими цілими числами від 1 до 10\nmatrix2 = np.random.randint(1, 11, size=(2, 2))\n\n# Знайдення різниці елементів обох матриць\ndifference = matrix1 - matrix2\n\nmatrix1, matrix2, difference\n",
      "metadata": {
        "trusted": true
      },
      "execution_count": 1,
      "outputs": [
        {
          "execution_count": 1,
          "output_type": "execute_result",
          "data": {
            "text/plain": "(array([[6, 7],\n        [9, 5]]),\n array([[4, 4],\n        [6, 3]]),\n array([[2, 3],\n        [3, 2]]))"
          },
          "metadata": {}
        }
      ]
    },
    {
      "cell_type": "code",
      "source": "",
      "metadata": {},
      "execution_count": null,
      "outputs": []
    }
  ]
}